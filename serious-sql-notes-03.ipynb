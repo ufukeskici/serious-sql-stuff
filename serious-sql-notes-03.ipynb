{
 "cells": [
  {
   "cell_type": "markdown",
   "metadata": {},
   "source": [
    "# SET OPERATIONS"
   ]
  },
  {
   "cell_type": "markdown",
   "metadata": {},
   "source": [
    "1. Union\n",
    "2. Union All\n",
    "3. Intersect\n",
    "4. Except\n",
    "5. Multiple Combinations"
   ]
  },
  {
   "cell_type": "markdown",
   "metadata": {},
   "source": [
    "### SAMPLE DATASET"
   ]
  },
  {
   "cell_type": "markdown",
   "metadata": {},
   "source": [
    "```sql\n",
    "-- create temporary tables\n",
    "DROP TABLE IF EXISTS names;\n",
    "CREATE TEMP TABLE names AS\n",
    "WITH input_data (iid, first_name, title) AS (\n",
    " VALUES\n",
    " (1, 'Kate', 'Datacated Visualizer'),\n",
    " (2, 'Eric', 'Captain SQL'),\n",
    " (3, 'Danny', 'Data Wizard Of Oz'),\n",
    " (4, 'Ben', 'Mad Scientist'),\n",
    " (5, 'Dave', 'Analytics Heretic'),\n",
    " (6, 'Ken', 'The YouTuber')\n",
    ")\n",
    "SELECT * FROM input_data;\n",
    "```"
   ]
  },
  {
   "cell_type": "markdown",
   "metadata": {},
   "source": [
    "```sql\n",
    "-- inspect names table\n",
    "SELECT * FROM names;\n",
    "```"
   ]
  },
  {
   "cell_type": "markdown",
   "metadata": {},
   "source": [
    "| iid | first_name | title                |\n",
    "|-----|------------|----------------------|\n",
    "| 1   | Kate       | Datacated Visualizer |\n",
    "| 2   | Eric       | Captain SQL          |\n",
    "| 3   | Danny      | Data Wizard Of Oz    |\n",
    "| 4   | Ben        | Mad Scientist        |\n",
    "| 5   | Dave       | Analytics Heretic    |\n",
    "| 6   | Ken        | The YouTuber         |"
   ]
  },
  {
   "cell_type": "markdown",
   "metadata": {},
   "source": [
    "### 1. UNION"
   ]
  },
  {
   "cell_type": "markdown",
   "metadata": {},
   "source": [
    "![union](https://i.imgur.com/BtRURxr.png)"
   ]
  },
  {
   "cell_type": "markdown",
   "metadata": {},
   "source": [
    "```sql\n",
    "SELECT * FROM names where first_name = 'Danny'\n",
    "UNION\n",
    "SELECT * FROM names where first_name = 'Kate';\n",
    "```"
   ]
  },
  {
   "cell_type": "markdown",
   "metadata": {},
   "source": [
    "| iid | first_name | title                |\n",
    "|-----|------------|----------------------|\n",
    "| 1   | Kate       | Datacated Visualizer |\n",
    "| 3   | Danny      | Data Wizard Of Oz    |"
   ]
  },
  {
   "cell_type": "markdown",
   "metadata": {},
   "source": [
    "### 2. UNION ALL"
   ]
  },
  {
   "cell_type": "markdown",
   "metadata": {},
   "source": [
    "![union all](https://i.imgur.com/v9kgKau.png)"
   ]
  },
  {
   "cell_type": "markdown",
   "metadata": {},
   "source": [
    "```sql\n",
    "SELECT * FROM names where first_name = 'Danny'\n",
    "UNION ALL\n",
    "SELECT * FROM names where first_name = 'Danny';\n",
    "```"
   ]
  },
  {
   "cell_type": "markdown",
   "metadata": {},
   "source": [
    "| iid | first_name | title             |\n",
    "|-----|------------|-------------------|\n",
    "| 3   | Danny      | Data Wizard Of Oz |\n",
    "| 3   | Danny      | Data Wizard Of Oz |"
   ]
  },
  {
   "cell_type": "markdown",
   "metadata": {},
   "source": [
    "### 3. INTERSECT"
   ]
  },
  {
   "cell_type": "markdown",
   "metadata": {},
   "source": [
    "![intersect](https://i.imgur.com/vV8vXom.png)"
   ]
  },
  {
   "cell_type": "markdown",
   "metadata": {},
   "source": [
    "```sql\n",
    "SELECT * FROM names\n",
    "INTERSECT\n",
    "SELECT * FROM names where LEFT(first_name, 1) = 'K';\n",
    "```"
   ]
  },
  {
   "cell_type": "markdown",
   "metadata": {},
   "source": [
    "| iid | first_name | title                |\n",
    "|-----|------------|----------------------|\n",
    "| 1   | Kate       | Datacated Visualizer |\n",
    "| 4   | Ken        | The YouTuber         |"
   ]
  },
  {
   "cell_type": "markdown",
   "metadata": {},
   "source": [
    "### 4. EXCEPT"
   ]
  },
  {
   "cell_type": "markdown",
   "metadata": {},
   "source": [
    "![except](https://i.imgur.com/7SuEpDi.png)"
   ]
  },
  {
   "cell_type": "markdown",
   "metadata": {},
   "source": [
    "```sql\n",
    "SELECT * FROM names\n",
    "EXCEPT\n",
    "SELECT * FROM names where LEFT(first_name, 1) = 'K';\n",
    "```"
   ]
  },
  {
   "cell_type": "markdown",
   "metadata": {},
   "source": [
    "| iid | first_name | title             |\n",
    "|-----|------------|-------------------|\n",
    "| 3   | Danny      | Data Wizard Of Oz |\n",
    "| 5   | Dave       | Analytics Heretic |\n",
    "| 2   | Eric       | Captain SQL       |"
   ]
  },
  {
   "cell_type": "markdown",
   "metadata": {},
   "source": [
    "### 5. MULTIPLE COMBINATIONS"
   ]
  },
  {
   "cell_type": "markdown",
   "metadata": {},
   "source": [
    "```sql\n",
    "-- all of the set operations is executed in order from top to bottom!\n",
    "SELECT * FROM names WHERE first_name = 'Danny'\n",
    "UNION\n",
    "SELECT * FROM names where LEFT(first_name, 1) = 'K'\n",
    "EXCEPT\n",
    "SELECT * FROM names where first_name = 'Kate';\n",
    "```"
   ]
  },
  {
   "cell_type": "markdown",
   "metadata": {},
   "source": [
    "| iid | first_name | title             |\n",
    "|-----|------------|-------------------|\n",
    "| 3   | Danny      | Data Wizard Of Oz |\n",
    "| 4   | Ken        | The Youtuber      |"
   ]
  }
 ],
 "metadata": {
  "interpreter": {
   "hash": "b0fa6594d8f4cbf19f97940f81e996739fb7646882a419484c72d19e05852a7e"
  },
  "kernelspec": {
   "display_name": "Python 3.9.10 64-bit",
   "language": "python",
   "name": "python3"
  },
  "language_info": {
   "codemirror_mode": {
    "name": "ipython",
    "version": 3
   },
   "file_extension": ".py",
   "mimetype": "text/x-python",
   "name": "python",
   "nbconvert_exporter": "python",
   "pygments_lexer": "ipython3",
   "version": "3.9.13"
  },
  "orig_nbformat": 4
 },
 "nbformat": 4,
 "nbformat_minor": 2
}
