{
 "cells": [
  {
   "cell_type": "markdown",
   "metadata": {},
   "source": [
    "# HEALTH ANALYTICS MINI CASE STUDY"
   ]
  },
  {
   "cell_type": "markdown",
   "metadata": {},
   "source": [
    "1. How many unique users exist in the logs dataset?"
   ]
  },
  {
   "cell_type": "markdown",
   "metadata": {},
   "source": [
    "```sql\n",
    "SELECT COUNT(DISTINCT id) AS unique_users\n",
    "FROM health.user_logs;\n",
    "```"
   ]
  },
  {
   "cell_type": "markdown",
   "metadata": {},
   "source": [
    "| unique_users |\n",
    "|--------------|\n",
    "| 554          |"
   ]
  },
  {
   "cell_type": "markdown",
   "metadata": {},
   "source": [
    "\n",
    "2. How many total measurements do we have per user on average?"
   ]
  },
  {
   "cell_type": "markdown",
   "metadata": {},
   "source": [
    "```sql\n",
    "DROP TABLE IF EXISTS user_measure_count;\n",
    "CREATE TEMP TABLE user_measure_count AS\n",
    "  SELECT\n",
    "    id,\n",
    "    COUNT(*) AS measure_count,\n",
    "    COUNT(DISTINCT measure) as unique_measures\n",
    "  FROM health.user_logs\n",
    "  GROUP BY 1; \n",
    "  \n",
    "SELECT AVG(measure_count) AS avg_total_measure\n",
    "FROM user_measure_count;\n",
    "```"
   ]
  },
  {
   "cell_type": "markdown",
   "metadata": {},
   "source": [
    "| avg_total_measure   |\n",
    "|---------------------|\n",
    "| 79.2256317689530686 |"
   ]
  },
  {
   "cell_type": "markdown",
   "metadata": {},
   "source": [
    "3. What about the median number of measurements per user?"
   ]
  },
  {
   "cell_type": "markdown",
   "metadata": {},
   "source": [
    "```sql\n",
    "DROP TABLE IF EXISTS user_measure_count;\n",
    "CREATE TEMP TABLE user_measure_count AS\n",
    "  SELECT\n",
    "    id,\n",
    "    COUNT(*) AS measure_count,\n",
    "    COUNT(DISTINCT measure) as unique_measures\n",
    "  FROM health.user_logs\n",
    "  GROUP BY 1; \n",
    "  \n",
    "SELECT CAST(PERCENTILE_CONT(0.5) WITHIN GROUP (ORDER BY measure_count) AS NUMERIC) AS median_value\n",
    "FROM user_measure_count;\n",
    "```"
   ]
  },
  {
   "cell_type": "markdown",
   "metadata": {},
   "source": [
    "| median_value |\n",
    "|--------------|\n",
    "| 2            |"
   ]
  },
  {
   "cell_type": "markdown",
   "metadata": {},
   "source": [
    "4. How many users have 3 or more measurements?"
   ]
  },
  {
   "cell_type": "markdown",
   "metadata": {},
   "source": [
    "```sql\n",
    "DROP TABLE IF EXISTS user_measure_count;\n",
    "CREATE TEMP TABLE user_measure_count AS\n",
    "  SELECT\n",
    "    id,\n",
    "    COUNT(*) AS measure_count,\n",
    "    COUNT(DISTINCT measure) as unique_measures\n",
    "  FROM health.user_logs\n",
    "  GROUP BY 1; \n",
    "  \n",
    "SELECT COUNT(*)\n",
    "FROM user_measure_count\n",
    "WHERE measure_count >= 3;\n",
    "```"
   ]
  },
  {
   "cell_type": "markdown",
   "metadata": {},
   "source": [
    "| count |\n",
    "|-------|\n",
    "| 209   |"
   ]
  },
  {
   "cell_type": "markdown",
   "metadata": {},
   "source": [
    "5. How many users have 1,000 or more measurements?"
   ]
  },
  {
   "cell_type": "markdown",
   "metadata": {},
   "source": [
    "```sql\n",
    "DROP TABLE IF EXISTS user_measure_count;\n",
    "CREATE TEMP TABLE user_measure_count AS\n",
    "  SELECT\n",
    "    id,\n",
    "    COUNT(*) AS measure_count,\n",
    "    COUNT(DISTINCT measure) as unique_measures\n",
    "  FROM health.user_logs\n",
    "  GROUP BY 1; \n",
    "  \n",
    "SELECT COUNT(*)\n",
    "FROM user_measure_count\n",
    "WHERE measure_count >= 1000;\n",
    "```"
   ]
  },
  {
   "cell_type": "markdown",
   "metadata": {},
   "source": [
    "| count |\n",
    "|-------|\n",
    "| 5     |"
   ]
  },
  {
   "cell_type": "markdown",
   "metadata": {},
   "source": [
    "6. Looking at the logs data - what is the number and percentage of the active user base who `have logged blood glucose measurements?`\n"
   ]
  },
  {
   "cell_type": "markdown",
   "metadata": {},
   "source": [
    "```sql\n",
    "SELECT COUNT(DISTINCT id)\n",
    "FROM health.user_logs\n",
    "WHERE measure='blood_glucose';\n",
    "```"
   ]
  },
  {
   "cell_type": "markdown",
   "metadata": {},
   "source": [
    "| count |\n",
    "|-------|\n",
    "| 325   |"
   ]
  },
  {
   "cell_type": "markdown",
   "metadata": {},
   "source": [
    "7. Looking at the logs data - what is the number and percentage of the active user base who `have at least 2 types of measurements?`\n"
   ]
  },
  {
   "cell_type": "markdown",
   "metadata": {},
   "source": [
    "```sql\n",
    "DROP TABLE IF EXISTS user_measure_count;\n",
    "CREATE TEMP TABLE user_measure_count AS\n",
    "  SELECT\n",
    "    id,\n",
    "    COUNT(*) AS measure_count,\n",
    "    COUNT(DISTINCT measure) as unique_measures\n",
    "  FROM health.user_logs\n",
    "  GROUP BY 1; \n",
    "  \n",
    "SELECT COUNT(*)\n",
    "FROM user_measure_count\n",
    "WHERE unique_measures >= 2;\n",
    "```"
   ]
  },
  {
   "cell_type": "markdown",
   "metadata": {},
   "source": [
    "| count |\n",
    "|-------|\n",
    "| 204   |"
   ]
  },
  {
   "cell_type": "markdown",
   "metadata": {},
   "source": [
    "8. Looking at the logs data - what is the number and percentage of the active user base who `have all 3 measures - blood glucose, weight and blood pressure?`\n"
   ]
  },
  {
   "cell_type": "markdown",
   "metadata": {},
   "source": [
    "```sql\n",
    "DROP TABLE IF EXISTS user_measure_count;\n",
    "CREATE TEMP TABLE user_measure_count AS\n",
    "  SELECT\n",
    "    id,\n",
    "    COUNT(*) AS measure_count,\n",
    "    COUNT(DISTINCT measure) as unique_measures\n",
    "  FROM health.user_logs\n",
    "  GROUP BY 1; \n",
    "  \n",
    "SELECT COUNT(*)\n",
    "FROM user_measure_count\n",
    "WHERE unique_measures >= 2;\n",
    "```"
   ]
  },
  {
   "cell_type": "markdown",
   "metadata": {},
   "source": [
    "| count |\n",
    "|-------|\n",
    "| 50    |"
   ]
  },
  {
   "cell_type": "markdown",
   "metadata": {},
   "source": [
    "9. For users that have blood pressure measurements: `What is the median systolic/diastolic blood pressure values?`"
   ]
  },
  {
   "cell_type": "markdown",
   "metadata": {},
   "source": [
    "```sql\n",
    "SELECT\n",
    "  PERCENTILE_CONT(0.5) WITHIN GROUP (ORDER BY systolic) AS median_systolic,\n",
    "  PERCENTILE_CONT(0.5) WITHIN GROUP (ORDER BY diastolic) AS median_diastolic\n",
    "FROM health.user_logs\n",
    "WHERE measure = 'blood_pressure';\n",
    "```"
   ]
  },
  {
   "cell_type": "markdown",
   "metadata": {},
   "source": [
    "| median_systolic | median_diastolic |\n",
    "| --------------- | ---------------- |\n",
    "| 126             | 79               |"
   ]
  }
 ],
 "metadata": {
  "kernelspec": {
   "display_name": "Python 3.9.13 64-bit",
   "language": "python",
   "name": "python3"
  },
  "language_info": {
   "name": "python",
   "version": "3.9.13"
  },
  "orig_nbformat": 4,
  "vscode": {
   "interpreter": {
    "hash": "b0fa6594d8f4cbf19f97940f81e996739fb7646882a419484c72d19e05852a7e"
   }
  }
 },
 "nbformat": 4,
 "nbformat_minor": 2
}
