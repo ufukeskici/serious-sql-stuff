{
 "cells": [
  {
   "cell_type": "markdown",
   "metadata": {},
   "source": [
    "# TABLE JOINS"
   ]
  },
  {
   "cell_type": "markdown",
   "metadata": {},
   "source": [
    "1. Inner Join\n",
    "2. Left Join (Left Outer Join)\n",
    "3. Full Join (Full Outer Join)\n",
    "4. Cross Join\n",
    "5. Left Semi Join\n",
    "6. Anti Join"
   ]
  },
  {
   "cell_type": "markdown",
   "metadata": {},
   "source": [
    "### SAMPLE DATASETS"
   ]
  },
  {
   "cell_type": "markdown",
   "metadata": {},
   "source": [
    "```sql\n",
    "-- create temporary tables\n",
    "DROP TABLE IF EXISTS names;\n",
    "CREATE TEMP TABLE names AS\n",
    "WITH input_data (iid, first_name, title) AS (\n",
    " VALUES\n",
    " (1, 'Kate', 'Datacated Visualizer'),\n",
    " (2, 'Eric', 'Captain SQL'),\n",
    " (3, 'Danny', 'Data Wizard Of Oz'),\n",
    " (4, 'Ben', 'Mad Scientist'),\n",
    " (5, 'Dave', 'Analytics Heretic'),\n",
    " (6, 'Ken', 'The YouTuber')\n",
    ")\n",
    "SELECT * FROM input_data;\n",
    "\n",
    "DROP TABLE IF EXISTS jobs;\n",
    "CREATE TEMP TABLE jobs AS\n",
    "WITH input_data (iid, occupation, salary) AS (\n",
    " VALUES\n",
    " (1, 'Cleaner', 'High'),\n",
    " (2, 'Janitor', 'Medium'),\n",
    " (3, 'Monkey', 'Low'),\n",
    " (6, 'Plumber', 'Ultra'),\n",
    " (7, 'Hero', 'Plus Ultra')\n",
    ")\n",
    "SELECT * FROM input_data;\n",
    "\n",
    "DROP TABLE IF EXISTS new_jobs;\n",
    "CREATE TEMP TABLE new_jobs AS\n",
    "WITH input_table (iid, occupation, salary) AS (\n",
    " VALUES\n",
    " (1, 'Cleaner', 'High'),\n",
    " (1, 'Cleaner', 'Very High'),\n",
    " (2, 'Janitor', 'Medium'),\n",
    " (3, 'Monkey', 'Low'),\n",
    " (3, 'Monkey', 'Very Low'),\n",
    " (6, 'Plumber', 'Ultra'),\n",
    " (7, 'Hero', 'Plus Ultra')\n",
    ")\n",
    "SELECT * FROM input_table;\n",
    "```"
   ]
  },
  {
   "cell_type": "markdown",
   "metadata": {},
   "source": [
    "```sql\n",
    "-- inspect names table\n",
    "SELECT * FROM names;\n",
    "```"
   ]
  },
  {
   "cell_type": "markdown",
   "metadata": {},
   "source": [
    "| iid | first_name | title                |\n",
    "|-----|------------|----------------------|\n",
    "| 1   | Kate       | Datacated Visualizer |\n",
    "| 2   | Eric       | Captain SQL          |\n",
    "| 3   | Danny      | Data Wizard Of Oz    |\n",
    "| 4   | Ben        | Mad Scientist        |\n",
    "| 5   | Dave       | Analytics Heretic    |\n",
    "| 6   | Ken        | The YouTuber         |"
   ]
  },
  {
   "cell_type": "markdown",
   "metadata": {},
   "source": [
    "```sql\n",
    "-- inspect jobs table\n",
    "SELECT * FROM jobs;\n",
    "```"
   ]
  },
  {
   "cell_type": "markdown",
   "metadata": {},
   "source": [
    "| iid | occupation | salary     |\n",
    "|-----|------------|------------|\n",
    "| 1   | Cleaner    | High       |\n",
    "| 2   | Janitor    | Medium     |\n",
    "| 3   | Monkey     | Low        |\n",
    "| 6   | Plumber    | Ultra      |\n",
    "| 7   | Hero       | Plus Ultra |"
   ]
  },
  {
   "cell_type": "markdown",
   "metadata": {},
   "source": [
    "```sql\n",
    "-- inspect new_jobs table\n",
    "SELECT * FROM new_jobs;\n",
    "```"
   ]
  },
  {
   "cell_type": "markdown",
   "metadata": {},
   "source": [
    "| iid | occupation | salary     |\n",
    "|-----|------------|------------|\n",
    "| 1   | Cleaner    | High       |\n",
    "| 1   | Cleaner    | Very High  |\n",
    "| 2   | Janitor    | Medium     |\n",
    "| 3   | Monkey     | Low        |\n",
    "| 3   | Monkey     | Very Low   |\n",
    "| 6   | Plumber    | Ultra      |\n",
    "| 7   | Hero       | Plus Ultra |"
   ]
  },
  {
   "cell_type": "markdown",
   "metadata": {},
   "source": [
    "### 1. INNER JOIN"
   ]
  },
  {
   "cell_type": "markdown",
   "metadata": {},
   "source": [
    "![inner join](https://i.imgur.com/1ijPQ4m.png)"
   ]
  },
  {
   "cell_type": "markdown",
   "metadata": {},
   "source": [
    "```sql\n",
    "SELECT\n",
    "  names.iid,\n",
    "  names.first_name,\n",
    "  names.title,\n",
    "  jobs.occupation,\n",
    "  jobs.salary\n",
    "FROM names\n",
    "INNER JOIN jobs\n",
    "  ON names.iid = jobs.iid;\n",
    "```"
   ]
  },
  {
   "cell_type": "markdown",
   "metadata": {},
   "source": [
    "| iid | first_name | title                | occupation | salary |\n",
    "|-----|------------|----------------------|------------|--------|\n",
    "| 1   | Kate       | Datacated Visualizer | Cleaner    | High   |\n",
    "| 2   | Eric       | Captain SQL          | Janitor    | Medium |\n",
    "| 3   | Danny      | Data Wizard Of Oz    | Monkey     | Low    |\n",
    "| 6   | Ken        | The YouTuber         | Plumber    | Ultra  |"
   ]
  },
  {
   "cell_type": "markdown",
   "metadata": {},
   "source": [
    "### 2. LEFT JOIN (LEFT OUTER JOIN)"
   ]
  },
  {
   "cell_type": "markdown",
   "metadata": {},
   "source": [
    "![left join](https://i.imgur.com/XssVD8g.png)"
   ]
  },
  {
   "cell_type": "markdown",
   "metadata": {},
   "source": [
    "```sql\n",
    "SELECT\n",
    "  names.iid,\n",
    "  names.first_name,\n",
    "  names.title,\n",
    "  jobs.occupation,\n",
    "  jobs.salary\n",
    "FROM names\n",
    "LEFT JOIN jobs\n",
    "  ON names.iid = jobs.iid;\n",
    "```"
   ]
  },
  {
   "cell_type": "markdown",
   "metadata": {},
   "source": [
    "| iid | first_name | title                | occupation | salary |\n",
    "|-----|------------|----------------------|------------|--------|\n",
    "| 1   | Kate       | Datacated Visualizer | Cleaner    | High   |\n",
    "| 2   | Eric       | Captain SQL          | Janitor    | Medium |\n",
    "| 3   | Danny      | Data Wizard Of Oz    | Monkey     | Low    |\n",
    "| 4   | Ben        | Mad Scientist        | null       | null   |\n",
    "| 5   | Dave       | Analytics Heretic    | null       | null   |\n",
    "| 6   | Ken        | The YouTuber         | Plumber    | Ultra  |"
   ]
  },
  {
   "cell_type": "markdown",
   "metadata": {},
   "source": [
    "### 3. FULL JOIN (FULL OUTER JOIN)"
   ]
  },
  {
   "cell_type": "markdown",
   "metadata": {},
   "source": [
    "![full join](https://i.imgur.com/5T64Wgv.png)"
   ]
  },
  {
   "cell_type": "markdown",
   "metadata": {},
   "source": [
    "```sql\n",
    "SELECT\n",
    "  names.iid AS name_id,\n",
    "  jobs.iid AS job_id,\n",
    "  names.first_name,\n",
    "  names.title,\n",
    "  jobs.occupation,\n",
    "  jobs.salary\n",
    "FROM names\n",
    "FULL JOIN jobs\n",
    "  ON names.iid = jobs.iid;\n",
    "```"
   ]
  },
  {
   "cell_type": "markdown",
   "metadata": {},
   "source": [
    "| name_id | job_id | first_name | title                | occupation | salary      |\n",
    "|---------|--------|------------|----------------------|------------|-------------|\n",
    "| 1       | 1      | Kate       | Datacated Visualizer | Cleaner    | High        |\n",
    "| 2       | 2      | Eric       | Captain SQL          | Janitor    | Medium      |\n",
    "| 3       | 3      | Danny      | Data Wizard Of Oz    | Monkey     | Low         |\n",
    "| 4       | null   | Ben        | Mad Scientist        | null       | null        |\n",
    "| 5       | null   | Dave       | Analytics Heretic    | null       | null        |\n",
    "| 6       | 6      | Ken        | The YouTuber         | Plumber    | Ultra       |\n",
    "| null    | 7      | null       | null                 | Hero       | Plus Ultra  |"
   ]
  },
  {
   "cell_type": "markdown",
   "metadata": {},
   "source": [
    "### 4. CROSS JOIN"
   ]
  },
  {
   "cell_type": "markdown",
   "metadata": {},
   "source": [
    "![cross join](https://i.imgur.com/9m5rfQr.png)"
   ]
  },
  {
   "cell_type": "markdown",
   "metadata": {},
   "source": [
    "```sql\n",
    "SELECT\n",
    "  names.iid as name_iid,\n",
    "  jobs.iid as job_iid,\n",
    "  names.first_name,\n",
    "  names.title,\n",
    "  jobs.occupation,\n",
    "  jobs.salary\n",
    "FROM names\n",
    "CROSS JOIN jobs;\n",
    "```"
   ]
  },
  {
   "cell_type": "markdown",
   "metadata": {},
   "source": [
    "| name_id | job_id | first_name | title                | occupation | salary      |\n",
    "|---------|--------|------------|----------------------|------------|-------------|\n",
    "| 1       | 1      | Kate       | Datacated Visualizer | Cleaner    | High        |\n",
    "| 1       | 2      | Kate       | Datacated Visualizer | Janitor\t| Medium      |\n",
    "| 1       | 3      | Kate       | Datacated Visualizer | Monkey     | Low         |\n",
    "| 1       | 6      | Kate       | Datacated Visualizer | Plumber    | Ultra       |\n",
    "| 1       | 7      | Kate       | Datacated Visualizer | Hero\t    | Plus Ultra  |\n",
    "| 2       | 1      | Eric       | Captain SQL          | Cleaner    | High        |\n",
    "| 2       | 2      | Eric       | Captain SQL          | Janitor\t| Medium      |\n",
    "| 2       | 3      | Eric       | Captain SQL          | Monkey     | Low         |\n",
    "| 2       | 6      | Eric       | Captain SQL          | Plumber    | Ultra       |\n",
    "| 2       | 7      | Eric       | Captain SQL          | Hero\t    | Plus Ultra  |\n",
    "| 3       | 1      | Danny      | Data Wizard Of Oz    | Cleaner    | High        |\n",
    "| 3       | 2      | Danny      | Data Wizard Of Oz    | Janitor\t| Medium      |\n",
    "| 3       | 3      | Danny      | Data Wizard Of Oz    | Monkey     | Low         |\n",
    "| 3       | 6      | Danny      | Data Wizard Of Oz    | Plumber    | Ultra       |\n",
    "| 3       | 7      | Danny      | Data Wizard Of Oz    | Hero\t    | Plus Ultra  |\n",
    "| 4       | 1      | Ben        | Mad Scientist        | Cleaner    | High        |\n",
    "| 4       | 2      | Ben        | Mad Scientist        | Janitor\t| Medium      |\n",
    "| 4       | 3      | Ben        | Mad Scientist        | Monkey     | Low         |\n",
    "| 4       | 6      | Ben        | Mad Scientist        | Plumber    | Ultra       |\n",
    "| 4       | 7      | Ben        | Mad Scientist        | Hero\t    | Plus Ultra  |\n",
    "| 5       | 1      | Dave       | Analytics Heretic    | Cleaner    | High        |\n",
    "| 5       | 2      | Dave       | Analytics Heretic    | Janitor\t| Medium      |\n",
    "| 5       | 3      | Dave       | Analytics Heretic    | Monkey     | Low         |\n",
    "| 5       | 6      | Dave       | Analytics Heretic    | Plumber    | Ultra       |\n",
    "| 5       | 7      | Dave       | Analytics Heretic    | Hero\t    | Plus Ultra  |\n",
    "| 6       | 1      | Ken        | The YouTuber         | Cleaner    | High        |\n",
    "| 6       | 2      | Ken        | The YouTuber         | Janitor\t| Medium      |\n",
    "| 6       | 3      | Ken        | The YouTuber         | Monkey     | Low         |\n",
    "| 6       | 6      | Ken        | The YouTuber         | Plumber    | Ultra       |\n",
    "| 6       | 7      | Ken        | The YouTuber         | Hero\t    | Plus Ultra  |"
   ]
  },
  {
   "cell_type": "markdown",
   "metadata": {},
   "source": [
    "### 5. LEFT SEMI JOIN"
   ]
  },
  {
   "cell_type": "markdown",
   "metadata": {},
   "source": [
    "![left semi join](https://i.imgur.com/XPoqNeY.png)"
   ]
  },
  {
   "cell_type": "markdown",
   "metadata": {},
   "source": [
    "```sql\n",
    "SELECT\n",
    "  names.iid,\n",
    "  names.first_name\n",
    "FROM names\n",
    "WHERE EXISTS (\n",
    "  SELECT iid\n",
    "  FROM new_jobs\n",
    "  WHERE names.iid = new_jobs.iid\n",
    "  );\n",
    "```"
   ]
  },
  {
   "cell_type": "markdown",
   "metadata": {},
   "source": [
    "| iid | first_name |\n",
    "|-----|------------|\n",
    "| 1   | Kate       |\n",
    "| 2   | Eric       |\n",
    "| 3   | Danny      |\n",
    "| 6   | Ken        |"
   ]
  },
  {
   "cell_type": "markdown",
   "metadata": {},
   "source": [
    "### 6. ANTI JOIN"
   ]
  },
  {
   "cell_type": "markdown",
   "metadata": {},
   "source": [
    "![anti join](https://i.imgur.com/AYMkH4r.png)"
   ]
  },
  {
   "cell_type": "markdown",
   "metadata": {},
   "source": [
    "```sql\n",
    "SELECT\n",
    "  names.iid,\n",
    "  names.first_name\n",
    "FROM names\n",
    "WHERE NOT EXISTS (\n",
    "  SELECT 1\n",
    "  FROM new_jobs\n",
    "  WHERE names.iid = new_jobs.iid\n",
    "  );\n",
    "```"
   ]
  },
  {
   "cell_type": "markdown",
   "metadata": {},
   "source": [
    "| iid | first_name |\n",
    "|-----|------------|\n",
    "| 4   | Ben        |\n",
    "| 5   | Dave       |"
   ]
  }
 ],
 "metadata": {
  "interpreter": {
   "hash": "b0fa6594d8f4cbf19f97940f81e996739fb7646882a419484c72d19e05852a7e"
  },
  "kernelspec": {
   "display_name": "Python 3.9.10 64-bit",
   "language": "python",
   "name": "python3"
  },
  "language_info": {
   "codemirror_mode": {
    "name": "ipython",
    "version": 3
   },
   "file_extension": ".py",
   "mimetype": "text/x-python",
   "name": "python",
   "nbconvert_exporter": "python",
   "pygments_lexer": "ipython3",
   "version": "3.9.13"
  },
  "orig_nbformat": 4
 },
 "nbformat": 4,
 "nbformat_minor": 2
}
