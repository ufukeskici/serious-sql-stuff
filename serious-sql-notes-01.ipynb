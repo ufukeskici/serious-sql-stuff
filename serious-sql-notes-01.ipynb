{
 "cells": [
  {
   "cell_type": "markdown",
   "metadata": {},
   "source": [
    "# DATA EXPLORATION"
   ]
  },
  {
   "cell_type": "markdown",
   "metadata": {},
   "source": [
    "## 1. SELECT & SORT DATA"
   ]
  },
  {
   "cell_type": "markdown",
   "metadata": {},
   "source": [
    "1.1. What is the `name` of the category with the highest `category_id` in the `dvd_rentals.category` table?"
   ]
  },
  {
   "cell_type": "markdown",
   "metadata": {},
   "source": [
    "```sql\n",
    "SELECT\n",
    "  category_id,\n",
    "  name\n",
    "FROM dvd_rentals.category\n",
    "ORDER BY category DESC\n",
    "LIMIT 1;\n",
    "```"
   ]
  },
  {
   "cell_type": "markdown",
   "metadata": {},
   "source": [
    "1.2. For the films with the longest `length`, what is the `title` of the “R” rated film with the lowest `replacement_cost` in `dvd_rentals.film table`?"
   ]
  },
  {
   "cell_type": "markdown",
   "metadata": {},
   "source": [
    "```sql\n",
    "SELECT\n",
    "  title,\n",
    "  length,\n",
    "  replacement_cost,\n",
    "  rating\n",
    "FROM dvd_rentals.film\n",
    "ORDER BY\n",
    "  length DESC,\n",
    "  replacement_cost ASC\n",
    "LIMIT 10;\n",
    "```"
   ]
  },
  {
   "cell_type": "markdown",
   "metadata": {},
   "source": [
    "1.3. Who was the `manager` of the store with the highest `total_sales` in the `dvd_rentals.sales_by_store` table?"
   ]
  },
  {
   "cell_type": "markdown",
   "metadata": {},
   "source": [
    "```sql\n",
    "SELECT\n",
    "  manager,\n",
    "  total_sales\n",
    "FROM dvd_rentals.sales_by_store\n",
    "ORDER BY total_sales DESC\n",
    "LIMIT 1;\n",
    "```"
   ]
  },
  {
   "cell_type": "markdown",
   "metadata": {},
   "source": [
    "1.4. What is the `postal_code` of the city with the 5th highest `city_id` in the `dvd_rentals.address` table?"
   ]
  },
  {
   "cell_type": "markdown",
   "metadata": {},
   "source": [
    "```sql\n",
    "SELECT\n",
    "  city_id,\n",
    "  postal_code\n",
    "FROM dvd_rentals.address\n",
    "ORDER BY city_id DESC\n",
    "LIMIT 5;\n",
    "```"
   ]
  },
  {
   "cell_type": "markdown",
   "metadata": {},
   "source": [
    "## 2. RECORD COUNTS & DISTINCT VALUES"
   ]
  },
  {
   "cell_type": "markdown",
   "metadata": {},
   "source": [
    "2.1. Which `actor_id` has the most number of unique `film_id` records in the `dvd_rentals.film_actor` table?"
   ]
  },
  {
   "cell_type": "markdown",
   "metadata": {},
   "source": [
    "```sql\n",
    "SELECT\n",
    "    actor_id,\n",
    "    COUNT(DISTINCT film_id) AS number_of_unique_film\n",
    "FROM dvd_rentals.film_actor\n",
    "GROUP BY actor_id\n",
    "ORDER BY number_of_unique_film DESC\n",
    "LIMIT 1;\n",
    "```"
   ]
  },
  {
   "cell_type": "markdown",
   "metadata": {},
   "source": [
    "| actor_id | number_of_unique_film |\n",
    "|----------|-----------------------|\n",
    "| 107      | 42                    |"
   ]
  },
  {
   "cell_type": "markdown",
   "metadata": {},
   "source": [
    "2.2 How many distinct `fid` values are there for the 3rd most common `price` value in the `dvd_rentals.nicer_but_slower_film_list` table?"
   ]
  },
  {
   "cell_type": "markdown",
   "metadata": {},
   "source": [
    "```sql\n",
    "SELECT\n",
    "    price,\n",
    "    COUNT(DISTINCT fid) AS number_of_fid\n",
    "FROM dvd_rentals.nicer_but_slower_film_list\n",
    "GROUP BY price\n",
    "ORDER BY number_of_fid DESC\n",
    "LIMIT 3;\n",
    "```"
   ]
  },
  {
   "cell_type": "markdown",
   "metadata": {},
   "source": [
    "| price | number_of_fid |\n",
    "|-------|---------------|\n",
    "| 0.99  | 340           |\n",
    "| 4.99  | 334           |\n",
    "| 2.99  | 323           |"
   ]
  },
  {
   "cell_type": "markdown",
   "metadata": {},
   "source": [
    "2.3. How many unique `country_id` values exist in the `dvd_rentals.city` table? "
   ]
  },
  {
   "cell_type": "markdown",
   "metadata": {},
   "source": [
    "```sql\n",
    "SELECT COUNT(DISTINCT country_id)\n",
    "FROM dvd_rentals.city;\n",
    "```"
   ]
  },
  {
   "cell_type": "markdown",
   "metadata": {},
   "source": [
    "| count |\n",
    "|-------|\n",
    "| 109   |"
   ]
  },
  {
   "cell_type": "markdown",
   "metadata": {},
   "source": [
    "2.4. What percentage of overall `total_sales` does the `Sports` category make up in the `dvd_rentals.sales_by_film_category` table?"
   ]
  },
  {
   "cell_type": "markdown",
   "metadata": {},
   "source": [
    "```sql\n",
    "SELECT\n",
    "    category, \n",
    "    ROUND(100 * total_sales::NUMERIC / SUM(total_sales) OVER (), 2) AS percentage\n",
    "FROM dvd_rentals.sales_by_film_category;\n",
    "```"
   ]
  },
  {
   "cell_type": "markdown",
   "metadata": {},
   "source": [
    "| category    | percentage |\n",
    "|-------------|------------|\n",
    "| Sports      | 7.88       |\n",
    "| Sci-Fi      | 7.06       |\n",
    "| Animation   | 6.91       |\n",
    "| Drama       | 6.80       |\n",
    "| Comedy      | 6.50       |\n",
    "| Action      | 6.49       |\n",
    "| New         | 6.46       |\n",
    "| Games       | 6.35       |\n",
    "| Foreign     | 6.33       |\n",
    "| Family      | 6.28       |\n",
    "| Documentary | 6.26       |\n",
    "| Horror      | 5.52       |\n",
    "| Children    | 5.42       |\n",
    "| Classics    | 5.40       |\n",
    "| Travel      | 5.27       |\n",
    "| Music       | 5.07       |"
   ]
  },
  {
   "cell_type": "markdown",
   "metadata": {},
   "source": [
    "2.5. What percentage of unique `fid` values are in the `Children` category in the `dvd_rentals.film_list` table?"
   ]
  },
  {
   "cell_type": "markdown",
   "metadata": {},
   "source": [
    "```sql\n",
    "SELECT\n",
    "    category\n",
    ",   COUNT(DISTINCT fid) AS frequency\n",
    ",   ROUND(\n",
    "        100 * COUNT(DISTINCT fid)::NUMERIC / SUM(COUNT(DISTINCT fid)) OVER (), 2\n",
    "        )\n",
    "        AS percentage\n",
    "FROM dvd_rentals.film_list\n",
    "GROUP BY category;\n",
    "```"
   ]
  },
  {
   "cell_type": "markdown",
   "metadata": {},
   "source": [
    "| category    | percentage |\n",
    "|-------------|------------|\n",
    "| Action      | 6.42       |\n",
    "| Animation   | 6.62       |\n",
    "| Children    | 6.02       |\n",
    "| Classics    | 5.72       |\n",
    "| Comedy      | 5.82       |\n",
    "| Documentary | 6.82       |\n",
    "| Drama       | 6.12       |\n",
    "| Family      | 6.92       |\n",
    "| Foreign     | 7.32       |\n",
    "| Games       | 6.12       |\n",
    "| Horror      | 5.62       |\n",
    "| Music       | 5.12       |\n",
    "| New         | 6.32       |\n",
    "| Sci-Fi      | 6.12       |\n",
    "| Sports      | 7.32       |\n",
    "| Travel      | 5.62       |"
   ]
  },
  {
   "cell_type": "markdown",
   "metadata": {},
   "source": [
    "## 3. IDENTIFYING DUPLICATE DATA"
   ]
  },
  {
   "cell_type": "markdown",
   "metadata": {},
   "source": [
    "3.1. Which `id` value has the most number of duplicate records in the `health.user_logs` table?"
   ]
  },
  {
   "cell_type": "markdown",
   "metadata": {},
   "source": [
    "```sql\n",
    "WITH groupby_counts AS (\n",
    "  SELECT\n",
    "    id,\n",
    "    log_date,\n",
    "    measure,\n",
    "    measure_value,\n",
    "    systolic,\n",
    "    diastolic,\n",
    "    COUNT(*) AS frequency\n",
    "  FROM health.user_logs\n",
    "  GROUP BY\n",
    "    id,\n",
    "    log_date,\n",
    "    measure,\n",
    "    measure_value,\n",
    "    systolic,\n",
    "    diastolic\n",
    "  HAVING COUNT(*) > 1\n",
    ")\n",
    "SELECT\n",
    "  id,\n",
    "  SUM(frequency) AS total_frequency\n",
    "FROM groupby_counts\n",
    "GROUP BY id\n",
    "ORDER BY total_frequency DESC\n",
    "LIMIT 1;\n",
    "```"
   ]
  },
  {
   "cell_type": "markdown",
   "metadata": {},
   "source": [
    "| id                                       | total_frequency |\n",
    "|------------------------------------------|-----------------|\n",
    "| 054250c692e07a9fa9e62e345231df4b54ff435d | 17279           |\n"
   ]
  },
  {
   "cell_type": "markdown",
   "metadata": {},
   "source": [
    "3.2. Which `log_date` value had the most duplicate records after removing the max duplicate `id` value from question 1?"
   ]
  },
  {
   "cell_type": "markdown",
   "metadata": {},
   "source": [
    "```sql\n",
    "WITH groupby_counts AS (\n",
    "  SELECT\n",
    "    id,\n",
    "    log_date,\n",
    "    measure,\n",
    "    measure_value,\n",
    "    systolic,\n",
    "    diastolic,\n",
    "    COUNT(*) AS frequency\n",
    "  FROM health.user_logs\n",
    "  WHERE id != '054250c692e07a9fa9e62e345231df4b54ff435d'\n",
    "  GROUP BY\n",
    "    id,\n",
    "    log_date,\n",
    "    measure,\n",
    "    measure_value,\n",
    "    systolic,\n",
    "    diastolic\n",
    "  HAVING COUNT(*) > 1\n",
    ")\n",
    "SELECT\n",
    "  log_date,\n",
    "  SUM(frequency) AS total_frequency\n",
    "FROM groupby_counts\n",
    "GROUP BY log_date\n",
    "ORDER BY total_frequency DESC\n",
    "LIMIT 1;\n",
    "```"
   ]
  },
  {
   "cell_type": "markdown",
   "metadata": {},
   "source": [
    "| log_date    | total_frequency |\n",
    "|-------------|-----------------|\n",
    "| 2019-12-11  | 55              |"
   ]
  },
  {
   "cell_type": "markdown",
   "metadata": {},
   "source": [
    "3.3. Which `measure_value` had the most occurences in the `health.user_logs` value when `measure = 'weight'`?"
   ]
  },
  {
   "cell_type": "markdown",
   "metadata": {},
   "source": [
    "```sql\n",
    "SELECT\n",
    "  measure_value,\n",
    "  COUNT(*) AS frequency\n",
    "FROM health.user_logs\n",
    "WHERE measure = 'weight'\n",
    "GROUP BY measure_value\n",
    "ORDER BY frequency DESC\n",
    "LIMIT 1;\n",
    "```"
   ]
  },
  {
   "cell_type": "markdown",
   "metadata": {},
   "source": [
    "| measure_value | frequency |\n",
    "|---------------|-----------|\n",
    "| 68.49244787   | 109       |"
   ]
  },
  {
   "cell_type": "markdown",
   "metadata": {},
   "source": [
    "3.4. How many single duplicated rows exist when `measure = 'blood_pressure'` in the `health.user_logs`? How about the total number of duplicate records in the same table?"
   ]
  },
  {
   "cell_type": "markdown",
   "metadata": {},
   "source": [
    "```sql\n",
    "WITH cte_duplicate AS (\n",
    "  SELECT\n",
    "    id,\n",
    "    log_date,\n",
    "    measure,\n",
    "    measure_value,\n",
    "    systolic,\n",
    "    diastolic,\n",
    "    COUNT(*) AS frequency\n",
    "  FROM health.user_logs\n",
    "  WHERE measure = 'blood_pressure'\n",
    "  GROUP BY\n",
    "    id,\n",
    "    log_date,\n",
    "    measure,\n",
    "    measure_value,\n",
    "    systolic,\n",
    "    diastolic\n",
    ")\n",
    "SELECT\n",
    "  COUNT(*) as single_duplicated_rows,\n",
    "  SUM(frequency) as total_duplicated_records\n",
    "FROM cte_duplicatevv\n",
    "WHERE frequency > 1\n",
    "LIMIT 1000;\n",
    "```"
   ]
  },
  {
   "cell_type": "markdown",
   "metadata": {},
   "source": [
    "| single_duplicated_rows | total_duplicated_records |\n",
    "|---------------|-----------|\n",
    "| 147 | 301 "
   ]
  },
  {
   "cell_type": "markdown",
   "metadata": {},
   "source": [
    "3.5. What percentage of records `measure_value = 0` when `measure = 'blood_pressure'` in the `health.user_logs` table? How many records are there also for this same condition?"
   ]
  },
  {
   "cell_type": "markdown",
   "metadata": {},
   "source": [
    "```sql\n",
    "WITH cte_percentage AS (\n",
    "  SELECT\n",
    "    measure_value,\n",
    "    COUNT(*) as frequency,\n",
    "    SUM(COUNT(*)) OVER() as total_records\n",
    "  FROM health.user_logs\n",
    "  WHERE measure = 'blood_pressure'\n",
    "  GROUP BY measure_value\n",
    ")\n",
    "SELECT\n",
    "  measure_value,\n",
    "  frequency,\n",
    "  total_records,\n",
    "  ROUND(100 * frequency::NUMERIC / total_records, 2) AS percentage\n",
    "FROM cte_percentage\n",
    "WHERE measure_value = 0;\n",
    "```"
   ]
  },
  {
   "cell_type": "markdown",
   "metadata": {},
   "source": [
    "| measure_value | frequency | total_records | percentage |\n",
    "|-------------|-----------|---------------|------------|\n",
    "| 0           | 562       | 2417          | 23.25      | "
   ]
  },
  {
   "cell_type": "markdown",
   "metadata": {},
   "source": [
    "3.6. What percentage of records are duplicates in the `health.user_logs table`?"
   ]
  },
  {
   "cell_type": "markdown",
   "metadata": {},
   "source": [
    "```sql\n",
    "WITH cte_distinct AS (\n",
    "  SELECT DISTINCT *\n",
    "  FROM health.user_logs\n",
    ")\n",
    "SELECT\n",
    "  ROUND(\n",
    "    100 * (\n",
    "      (SELECT COUNT(*) FROM health.user_logs) -\n",
    "      (SELECT COUNT(*) FROM cte_distinct)\n",
    "    )::NUMERIC /\n",
    "    (SELECT COUNT(*) FROM health.user_logs),\n",
    "    2\n",
    "  ) AS duplicate_percentage;\n",
    "```"
   ]
  },
  {
   "cell_type": "markdown",
   "metadata": {},
   "source": [
    "| duplicate_percentage |\n",
    "|----------------------|\n",
    "| 29.36                | "
   ]
  },
  {
   "cell_type": "markdown",
   "metadata": {},
   "source": [
    "## 4. SUMMARY STATISTICS"
   ]
  },
  {
   "cell_type": "markdown",
   "metadata": {},
   "source": [
    "4.1. What is the average, median and mode values of blood glucose values to 2 decimal places?"
   ]
  },
  {
   "cell_type": "markdown",
   "metadata": {},
   "source": [
    "```sql\n",
    "SELECT\n",
    "  ROUND(AVG(measure_value), 2) AS average_value,\n",
    "  ROUND(CAST(PERCENTILE_CONT(0.5) WITHIN GROUP (ORDER BY measure_value) AS NUMERIC), 2) AS median_value,\n",
    "  ROUND(MODE() WITHIN GROUP (ORDER BY measure_value), 2) AS mode_value\n",
    "FROM health.user_logs\n",
    "WHERE measure = 'blood_glucose';\n",
    "```"
   ]
  },
  {
   "cell_type": "markdown",
   "metadata": {},
   "source": [
    "| average_value | median_value | mode_value |\n",
    "|---------------|--------------|------------|\n",
    "| 177.35        | 154          | 401        |"
   ]
  },
  {
   "cell_type": "markdown",
   "metadata": {},
   "source": [
    "4.2 What is the most frequently occuring `measure_value` value for all blood glucose measurements?"
   ]
  },
  {
   "cell_type": "markdown",
   "metadata": {},
   "source": [
    "```sql\n",
    "SELECT\n",
    "  measure_value,\n",
    "  COUNT(*) as frequency\n",
    "FROM health.user_logs\n",
    "WHERE measure = 'blood_glucose'\n",
    "GROUP BY measure_value\n",
    "ORDER by frequency DESC\n",
    "LIMIT 1;\n",
    "```"
   ]
  },
  {
   "cell_type": "markdown",
   "metadata": {},
   "source": [
    "| measure_value | frequency |\n",
    "|---------------|-----------|\n",
    "| 401           | 433       |"
   ]
  },
  {
   "cell_type": "markdown",
   "metadata": {},
   "source": [
    "4.3. Calculate the 2 Pearson Coefficient of Skewness for blood glucose measures given the following formulas:"
   ]
  },
  {
   "cell_type": "markdown",
   "metadata": {},
   "source": [
    "`Coefficient1 : ModeSkewness = (Mean − Mode) / StandardDeviation`\n",
    " \n",
    "`Coefficient2 : MedianSkewness = 3 * (Mean − Median) / StandardDeviation`"
   ]
  },
  {
   "cell_type": "markdown",
   "metadata": {},
   "source": [
    "```sql\n",
    "WITH cte_blood_glucose_stats AS (\n",
    "  SELECT\n",
    "    AVG(measure_value) AS mean_value,\n",
    "    PERCENTILE_CONT(0.5) WITHIN GROUP (ORDER BY measure_value) AS median_value,\n",
    "    MODE() WITHIN GROUP (ORDER BY measure_value) AS mode_value,\n",
    "    STDDEV(measure_value) AS stddev_value\n",
    "  FROM health.user_logs\n",
    "  WHERE measure = 'blood_glucose'\n",
    ")\n",
    "SELECT\n",
    "  ( mean_value - mode_value ) / stddev_value AS pearson_corr_1,\n",
    "  3 * ( mean_value - median_value ) / stddev_value AS pearson_corr_2\n",
    "FROM cte_blood_glucose_stats;\n",
    "```"
   ]
  },
  {
   "cell_type": "markdown",
   "metadata": {},
   "source": [
    "| pearson_corr_1          | pearson_corr_2            |\n",
    "|-------------------------|---------------------------|\n",
    "| -0.19324890033272552535 | 0.06052397102651671       |"
   ]
  }
 ],
 "metadata": {
  "interpreter": {
   "hash": "b0fa6594d8f4cbf19f97940f81e996739fb7646882a419484c72d19e05852a7e"
  },
  "kernelspec": {
   "display_name": "Python 3.9.10 64-bit",
   "language": "python",
   "name": "python3"
  },
  "language_info": {
   "codemirror_mode": {
    "name": "ipython",
    "version": 3
   },
   "file_extension": ".py",
   "mimetype": "text/x-python",
   "name": "python",
   "nbconvert_exporter": "python",
   "pygments_lexer": "ipython3",
   "version": "3.9.13"
  },
  "orig_nbformat": 4
 },
 "nbformat": 4,
 "nbformat_minor": 2
}
